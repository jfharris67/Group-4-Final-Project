{
 "cells": [
  {
   "cell_type": "code",
   "execution_count": 50,
   "metadata": {},
   "outputs": [],
   "source": [
    "import pandas as pd\n",
    "import numpy as np\n",
    "from sklearn.model_selection import train_test_split\n",
    "from sklearn.preprocessing import StandardScaler, LabelEncoder\n",
    "from sklearn.linear_model import LogisticRegression\n",
    "from sklearn.ensemble import RandomForestClassifier\n",
    "from xgboost import XGBClassifier\n",
    "from sklearn.metrics import accuracy_score, f1_score"
   ]
  },
  {
   "cell_type": "code",
   "execution_count": 51,
   "metadata": {},
   "outputs": [
    {
     "data": {
      "text/html": [
       "<div>\n",
       "<style scoped>\n",
       "    .dataframe tbody tr th:only-of-type {\n",
       "        vertical-align: middle;\n",
       "    }\n",
       "\n",
       "    .dataframe tbody tr th {\n",
       "        vertical-align: top;\n",
       "    }\n",
       "\n",
       "    .dataframe thead th {\n",
       "        text-align: right;\n",
       "    }\n",
       "</style>\n",
       "<table border=\"1\" class=\"dataframe\">\n",
       "  <thead>\n",
       "    <tr style=\"text-align: right;\">\n",
       "      <th></th>\n",
       "      <th>DAY_OF_MONTH</th>\n",
       "      <th>DAY_OF_WEEK</th>\n",
       "      <th>OP_UNIQUE_CARRIER</th>\n",
       "      <th>OP_CARRIER_AIRLINE_ID</th>\n",
       "      <th>OP_CARRIER</th>\n",
       "      <th>TAIL_NUM</th>\n",
       "      <th>OP_CARRIER_FL_NUM</th>\n",
       "      <th>ORIGIN_AIRPORT_ID</th>\n",
       "      <th>ORIGIN_AIRPORT_SEQ_ID</th>\n",
       "      <th>ORIGIN</th>\n",
       "      <th>...</th>\n",
       "      <th>DEST_AIRPORT_SEQ_ID</th>\n",
       "      <th>DEST</th>\n",
       "      <th>DEP_TIME</th>\n",
       "      <th>DEP_DEL15</th>\n",
       "      <th>DEP_TIME_BLK</th>\n",
       "      <th>ARR_TIME</th>\n",
       "      <th>ARR_DEL15</th>\n",
       "      <th>CANCELLED</th>\n",
       "      <th>DIVERTED</th>\n",
       "      <th>DISTANCE</th>\n",
       "    </tr>\n",
       "  </thead>\n",
       "  <tbody>\n",
       "    <tr>\n",
       "      <th>0</th>\n",
       "      <td>1</td>\n",
       "      <td>3</td>\n",
       "      <td>EV</td>\n",
       "      <td>20366</td>\n",
       "      <td>EV</td>\n",
       "      <td>N48901</td>\n",
       "      <td>4397</td>\n",
       "      <td>13930</td>\n",
       "      <td>1393007</td>\n",
       "      <td>ORD</td>\n",
       "      <td>...</td>\n",
       "      <td>1197705</td>\n",
       "      <td>GRB</td>\n",
       "      <td>1003.0</td>\n",
       "      <td>0.0</td>\n",
       "      <td>1000-1059</td>\n",
       "      <td>1117.0</td>\n",
       "      <td>0.0</td>\n",
       "      <td>0.0</td>\n",
       "      <td>0.0</td>\n",
       "      <td>174.0</td>\n",
       "    </tr>\n",
       "    <tr>\n",
       "      <th>1</th>\n",
       "      <td>1</td>\n",
       "      <td>3</td>\n",
       "      <td>EV</td>\n",
       "      <td>20366</td>\n",
       "      <td>EV</td>\n",
       "      <td>N16976</td>\n",
       "      <td>4401</td>\n",
       "      <td>15370</td>\n",
       "      <td>1537002</td>\n",
       "      <td>TUL</td>\n",
       "      <td>...</td>\n",
       "      <td>1393007</td>\n",
       "      <td>ORD</td>\n",
       "      <td>1027.0</td>\n",
       "      <td>0.0</td>\n",
       "      <td>1000-1059</td>\n",
       "      <td>1216.0</td>\n",
       "      <td>0.0</td>\n",
       "      <td>0.0</td>\n",
       "      <td>0.0</td>\n",
       "      <td>585.0</td>\n",
       "    </tr>\n",
       "    <tr>\n",
       "      <th>2</th>\n",
       "      <td>1</td>\n",
       "      <td>3</td>\n",
       "      <td>EV</td>\n",
       "      <td>20366</td>\n",
       "      <td>EV</td>\n",
       "      <td>N12167</td>\n",
       "      <td>4404</td>\n",
       "      <td>11618</td>\n",
       "      <td>1161802</td>\n",
       "      <td>EWR</td>\n",
       "      <td>...</td>\n",
       "      <td>1541205</td>\n",
       "      <td>TYS</td>\n",
       "      <td>1848.0</td>\n",
       "      <td>0.0</td>\n",
       "      <td>1800-1859</td>\n",
       "      <td>2120.0</td>\n",
       "      <td>0.0</td>\n",
       "      <td>0.0</td>\n",
       "      <td>0.0</td>\n",
       "      <td>631.0</td>\n",
       "    </tr>\n",
       "    <tr>\n",
       "      <th>3</th>\n",
       "      <td>1</td>\n",
       "      <td>3</td>\n",
       "      <td>EV</td>\n",
       "      <td>20366</td>\n",
       "      <td>EV</td>\n",
       "      <td>N14902</td>\n",
       "      <td>4405</td>\n",
       "      <td>10781</td>\n",
       "      <td>1078105</td>\n",
       "      <td>BTR</td>\n",
       "      <td>...</td>\n",
       "      <td>1226603</td>\n",
       "      <td>IAH</td>\n",
       "      <td>1846.0</td>\n",
       "      <td>0.0</td>\n",
       "      <td>1800-1859</td>\n",
       "      <td>2004.0</td>\n",
       "      <td>0.0</td>\n",
       "      <td>0.0</td>\n",
       "      <td>0.0</td>\n",
       "      <td>253.0</td>\n",
       "    </tr>\n",
       "    <tr>\n",
       "      <th>4</th>\n",
       "      <td>1</td>\n",
       "      <td>3</td>\n",
       "      <td>EV</td>\n",
       "      <td>20366</td>\n",
       "      <td>EV</td>\n",
       "      <td>N606UX</td>\n",
       "      <td>4407</td>\n",
       "      <td>14524</td>\n",
       "      <td>1452401</td>\n",
       "      <td>RIC</td>\n",
       "      <td>...</td>\n",
       "      <td>1226603</td>\n",
       "      <td>IAH</td>\n",
       "      <td>1038.0</td>\n",
       "      <td>0.0</td>\n",
       "      <td>1000-1059</td>\n",
       "      <td>1330.0</td>\n",
       "      <td>0.0</td>\n",
       "      <td>0.0</td>\n",
       "      <td>0.0</td>\n",
       "      <td>1157.0</td>\n",
       "    </tr>\n",
       "  </tbody>\n",
       "</table>\n",
       "<p>5 rows × 21 columns</p>\n",
       "</div>"
      ],
      "text/plain": [
       "   DAY_OF_MONTH  DAY_OF_WEEK OP_UNIQUE_CARRIER  OP_CARRIER_AIRLINE_ID  \\\n",
       "0             1            3                EV                  20366   \n",
       "1             1            3                EV                  20366   \n",
       "2             1            3                EV                  20366   \n",
       "3             1            3                EV                  20366   \n",
       "4             1            3                EV                  20366   \n",
       "\n",
       "  OP_CARRIER TAIL_NUM  OP_CARRIER_FL_NUM  ORIGIN_AIRPORT_ID  \\\n",
       "0         EV   N48901               4397              13930   \n",
       "1         EV   N16976               4401              15370   \n",
       "2         EV   N12167               4404              11618   \n",
       "3         EV   N14902               4405              10781   \n",
       "4         EV   N606UX               4407              14524   \n",
       "\n",
       "   ORIGIN_AIRPORT_SEQ_ID ORIGIN  ...  DEST_AIRPORT_SEQ_ID  DEST DEP_TIME  \\\n",
       "0                1393007    ORD  ...              1197705   GRB   1003.0   \n",
       "1                1537002    TUL  ...              1393007   ORD   1027.0   \n",
       "2                1161802    EWR  ...              1541205   TYS   1848.0   \n",
       "3                1078105    BTR  ...              1226603   IAH   1846.0   \n",
       "4                1452401    RIC  ...              1226603   IAH   1038.0   \n",
       "\n",
       "   DEP_DEL15  DEP_TIME_BLK ARR_TIME  ARR_DEL15  CANCELLED  DIVERTED  DISTANCE  \n",
       "0        0.0     1000-1059   1117.0        0.0        0.0       0.0     174.0  \n",
       "1        0.0     1000-1059   1216.0        0.0        0.0       0.0     585.0  \n",
       "2        0.0     1800-1859   2120.0        0.0        0.0       0.0     631.0  \n",
       "3        0.0     1800-1859   2004.0        0.0        0.0       0.0     253.0  \n",
       "4        0.0     1000-1059   1330.0        0.0        0.0       0.0    1157.0  \n",
       "\n",
       "[5 rows x 21 columns]"
      ]
     },
     "execution_count": 51,
     "metadata": {},
     "output_type": "execute_result"
    }
   ],
   "source": [
    "# Load the data\n",
    "data = pd.read_csv('resources/flights.csv')\n",
    "data.head()"
   ]
  },
  {
   "cell_type": "code",
   "execution_count": 52,
   "metadata": {},
   "outputs": [],
   "source": [
    "# Clean and prepare the data\n",
    "data.dropna(inplace=True)\n",
    "data.drop(['TAIL_NUM', 'ORIGIN_AIRPORT_SEQ_ID', 'DEST_AIRPORT_SEQ_ID'], axis=1, inplace=True)\n",
    "\n"
   ]
  },
  {
   "cell_type": "code",
   "execution_count": 53,
   "metadata": {},
   "outputs": [],
   "source": [
    "# Encode categorical variables\n",
    "label_encoder = LabelEncoder()\n",
    "categorical_columns = ['DAY_OF_MONTH', 'DAY_OF_WEEK', 'OP_UNIQUE_CARRIER', 'OP_CARRIER', 'ORIGIN', 'DEST', 'DEP_TIME_BLK']\n",
    "for column in categorical_columns:\n",
    "    data[column] = label_encoder.fit_transform(data[column])\n",
    "\n"
   ]
  },
  {
   "cell_type": "code",
   "execution_count": 54,
   "metadata": {},
   "outputs": [],
   "source": [
    "# Split the data into training and testing datasets\n",
    "X = data.drop('ARR_DEL15', axis=1)\n",
    "y = data['ARR_DEL15']\n",
    "X_train, X_test, y_train, y_test = train_test_split(X, y, test_size=0.2, random_state=42)"
   ]
  },
  {
   "cell_type": "code",
   "execution_count": 55,
   "metadata": {},
   "outputs": [],
   "source": [
    "# Scale the data\n",
    "scaler = StandardScaler()\n",
    "X_train = scaler.fit_transform(X_train)\n",
    "X_test = scaler.transform(X_test)"
   ]
  },
  {
   "cell_type": "code",
   "execution_count": 56,
   "metadata": {},
   "outputs": [
    {
     "data": {
      "text/plain": [
       "RandomForestClassifier()"
      ]
     },
     "execution_count": 56,
     "metadata": {},
     "output_type": "execute_result"
    }
   ],
   "source": [
    "# Train the model (Logistic Regression)\n",
    "logistic_regression_model = LogisticRegression()\n",
    "logistic_regression_model.fit(X_train, y_train)\n",
    "\n",
    "# Train the model (Random Forest Classifier)\n",
    "random_forest_model = RandomForestClassifier()\n",
    "random_forest_model.fit(X_train, y_train)\n",
    "\n",
    "# Train the model (XGBClassifier)\n",
    "XGBClassifier_model = RandomForestClassifier()\n",
    "XGBClassifier_model.fit(X_train, y_train)"
   ]
  },
  {
   "cell_type": "code",
   "execution_count": 57,
   "metadata": {},
   "outputs": [
    {
     "name": "stdout",
     "output_type": "stream",
     "text": [
      "Logistic Regression accuracy: 0.9308241694061108\n"
     ]
    }
   ],
   "source": [
    "# Test the model (Logistic Regression)\n",
    "y_pred_lr = logistic_regression_model.predict(X_test)\n",
    "accuracy_lr = accuracy_score(y_test, y_pred_lr)\n",
    "print('Logistic Regression accuracy:', accuracy_lr)"
   ]
  },
  {
   "cell_type": "code",
   "execution_count": 58,
   "metadata": {},
   "outputs": [
    {
     "name": "stdout",
     "output_type": "stream",
     "text": [
      "Random Forest Classifier accuracy: 0.9375156440335742\n"
     ]
    }
   ],
   "source": [
    "# Test the model (Random Forest Classifier)\n",
    "y_pred_rf = random_forest_model.predict(X_test)\n",
    "accuracy_rf = accuracy_score(y_test, y_pred_rf)\n",
    "print('Random Forest Classifier accuracy:', accuracy_rf)"
   ]
  },
  {
   "cell_type": "code",
   "execution_count": 59,
   "metadata": {},
   "outputs": [
    {
     "name": "stdout",
     "output_type": "stream",
     "text": [
      "XGBClassifier_model accuracy: 0.9375907353947303\n"
     ]
    }
   ],
   "source": [
    "# Test the model (XGBClassifier)\n",
    "y_pred_rf = XGBClassifier_model.predict(X_test)\n",
    "accuracy_rf = accuracy_score(y_test, y_pred_rf)\n",
    "print('XGBClassifier_model accuracy:', accuracy_rf)"
   ]
  }
 ],
 "metadata": {
  "kernelspec": {
   "display_name": "mlenv",
   "language": "python",
   "name": "python3"
  },
  "language_info": {
   "codemirror_mode": {
    "name": "ipython",
    "version": 3
   },
   "file_extension": ".py",
   "mimetype": "text/x-python",
   "name": "python",
   "nbconvert_exporter": "python",
   "pygments_lexer": "ipython3",
   "version": "3.7.13"
  },
  "orig_nbformat": 4
 },
 "nbformat": 4,
 "nbformat_minor": 2
}
